{
 "cells": [
  {
   "cell_type": "code",
   "id": "initial_id",
   "metadata": {
    "collapsed": true,
    "ExecuteTime": {
     "end_time": "2024-08-10T17:34:27.844867Z",
     "start_time": "2024-08-10T17:34:27.825540Z"
    }
   },
   "source": [
    "import numpy as np\n",
    "import tensorflow as tf\n",
    "from sklearn.model_selection import train_test_split\n",
    "\n",
    "RANDOM_SEED = 42"
   ],
   "execution_count": 29,
   "outputs": []
  },
  {
   "metadata": {
    "ExecuteTime": {
     "end_time": "2024-08-10T17:34:28.150229Z",
     "start_time": "2024-08-10T17:34:28.130018Z"
    }
   },
   "cell_type": "code",
   "source": [
    "dataset = 'dataset_new.csv'\n",
    "model_save_path = 'pose_detector.keras'\n",
    "model_save_name = 'pose_detector'\n",
    "model_tflite_name = 'pose_detector.tflite'"
   ],
   "id": "81ecd7773e8b1b1c",
   "execution_count": 30,
   "outputs": []
  },
  {
   "metadata": {
    "ExecuteTime": {
     "end_time": "2024-08-10T17:34:28.503345Z",
     "start_time": "2024-08-10T17:34:28.491633Z"
    }
   },
   "cell_type": "code",
   "source": "NUM_CLASSES = 9",
   "id": "e69571db85feea87",
   "execution_count": 31,
   "outputs": []
  },
  {
   "metadata": {
    "ExecuteTime": {
     "end_time": "2024-08-10T17:34:28.994255Z",
     "start_time": "2024-08-10T17:34:28.915466Z"
    }
   },
   "cell_type": "code",
   "source": "X_dataset = np.loadtxt(dataset, delimiter=',', dtype='float32', usecols=list(range(2, 67 + 1)))",
   "id": "ba2e60d8aaea8676",
   "execution_count": 32,
   "outputs": []
  },
  {
   "metadata": {
    "ExecuteTime": {
     "end_time": "2024-08-10T17:34:29.518403Z",
     "start_time": "2024-08-10T17:34:29.488685Z"
    }
   },
   "cell_type": "code",
   "source": "y_dataset = np.loadtxt(dataset, delimiter=',', dtype='int32', usecols=(1))",
   "id": "db3200ee0876a45b",
   "execution_count": 33,
   "outputs": []
  },
  {
   "metadata": {
    "ExecuteTime": {
     "end_time": "2024-08-10T17:34:30.184458Z",
     "start_time": "2024-08-10T17:34:30.158816Z"
    }
   },
   "cell_type": "code",
   "source": [
    "# y_dataset = y_dataset - 1\n",
    "X_dataset.shape"
   ],
   "id": "3a82246ef97fae35",
   "execution_count": 34,
   "outputs": []
  },
  {
   "metadata": {
    "ExecuteTime": {
     "end_time": "2024-08-10T17:34:30.979789Z",
     "start_time": "2024-08-10T17:34:30.951785Z"
    }
   },
   "cell_type": "code",
   "source": "X_train, X_test, y_train, y_test = train_test_split(X_dataset, y_dataset, train_size=0.75, random_state=RANDOM_SEED)",
   "id": "c59381c52ebe6d0b",
   "execution_count": 35,
   "outputs": []
  },
  {
   "metadata": {},
   "cell_type": "markdown",
   "source": "# Model building",
   "id": "1478cdb5565259bc"
  },
  {
   "metadata": {
    "ExecuteTime": {
     "end_time": "2024-08-10T17:34:44.421287Z",
     "start_time": "2024-08-10T17:34:44.307630Z"
    }
   },
   "cell_type": "code",
   "source": [
    "model = tf.keras.models.Sequential([\n",
    "    tf.keras.layers.Input((66, )),\n",
    "    # tf.keras.layers.Dropout(0.2),\n",
    "    tf.keras.layers.Dense(20, activation='relu'),\n",
    "    tf.keras.layers.Dropout(0.4),\n",
    "    tf.keras.layers.Dense(10, activation='relu'),\n",
    "    tf.keras.layers.Dense(NUM_CLASSES, activation='softmax')\n",
    "])"
   ],
   "id": "8611be63bb0dd298",
   "execution_count": 36,
   "outputs": []
  },
  {
   "metadata": {
    "ExecuteTime": {
     "end_time": "2024-08-10T17:34:45.391464Z",
     "start_time": "2024-08-10T17:34:45.346982Z"
    }
   },
   "cell_type": "code",
   "source": "model.summary()  # tf.keras.utils.plot_model(model, show_shapes=True)",
   "id": "5e296d1fdc34bc63",
   "execution_count": 37,
   "outputs": []
  },
  {
   "metadata": {
    "ExecuteTime": {
     "end_time": "2024-08-10T17:34:46.057179Z",
     "start_time": "2024-08-10T17:34:46.041637Z"
    }
   },
   "cell_type": "code",
   "source": [
    "# Model checkpoint callback\n",
    "# path_model = os.path.dirname(model_save_path)\n",
    "cp_callback = tf.keras.callbacks.ModelCheckpoint(\n",
    "    filepath=model_save_path, verbose=1, save_weights_only=False\n",
    ")\n",
    "# Callback for early stopping\n",
    "es_callback = tf.keras.callbacks.EarlyStopping(patience=20, verbose=1)"
   ],
   "id": "fd303061c176e14",
   "execution_count": 38,
   "outputs": []
  },
  {
   "metadata": {
    "ExecuteTime": {
     "end_time": "2024-08-10T17:34:46.526483Z",
     "start_time": "2024-08-10T17:34:46.507793Z"
    }
   },
   "cell_type": "code",
   "source": [
    "# Model compilation\n",
    "model.compile(\n",
    "    optimizer='adam',\n",
    "    loss='sparse_categorical_crossentropy',\n",
    "    metrics=['accuracy']\n",
    ")"
   ],
   "id": "186ec0ffe55e4c27",
   "execution_count": 39,
   "outputs": []
  },
  {
   "metadata": {},
   "cell_type": "markdown",
   "source": "# Model training",
   "id": "39518e52dc7ed76f"
  },
  {
   "metadata": {
    "ExecuteTime": {
     "end_time": "2024-08-10T17:34:53.529538Z",
     "start_time": "2024-08-10T17:34:47.363259Z"
    }
   },
   "cell_type": "code",
   "source": [
    "model.fit(\n",
    "    X_train,\n",
    "    y_train,\n",
    "    epochs=1000,\n",
    "    batch_size=128,\n",
    "    validation_data=(X_test, y_test),\n",
    "    callbacks=[cp_callback, es_callback]\n",
    ")"
   ],
   "id": "bac1c343f72caac2",
   "execution_count": 40,
   "outputs": []
  },
  {
   "metadata": {
    "ExecuteTime": {
     "end_time": "2024-08-10T17:34:53.650701Z",
     "start_time": "2024-08-10T17:34:53.531483Z"
    }
   },
   "cell_type": "code",
   "source": [
    "# Model evaluation\n",
    "val_loss, val_acc = model.evaluate(X_test, y_test, batch_size=128)"
   ],
   "id": "bee66f9c54fd061a",
   "execution_count": 41,
   "outputs": []
  },
  {
   "metadata": {
    "ExecuteTime": {
     "end_time": "2024-08-10T17:34:53.759315Z",
     "start_time": "2024-08-10T17:34:53.652748Z"
    }
   },
   "cell_type": "code",
   "source": [
    "# Loading the saved model\n",
    "model = tf.keras.models.load_model(model_save_path)"
   ],
   "id": "c65e310e018d0999",
   "execution_count": 42,
   "outputs": []
  },
  {
   "metadata": {
    "ExecuteTime": {
     "end_time": "2024-08-10T17:34:53.895494Z",
     "start_time": "2024-08-10T17:34:53.762923Z"
    }
   },
   "cell_type": "code",
   "source": [
    "# Inference test\n",
    "predict_result = model.predict(np.array([X_test[0]]))\n",
    "print(np.squeeze(predict_result))\n",
    "print(np.argmax(np.squeeze(predict_result)))"
   ],
   "id": "68cb8d57dd3b99da",
   "execution_count": 43,
   "outputs": []
  },
  {
   "metadata": {
    "ExecuteTime": {
     "end_time": "2024-08-10T17:34:53.911588Z",
     "start_time": "2024-08-10T17:34:53.897495Z"
    }
   },
   "cell_type": "code",
   "source": "y_test[0]",
   "id": "c3b43ba1d43eb98",
   "execution_count": 44,
   "outputs": []
  },
  {
   "metadata": {},
   "cell_type": "markdown",
   "source": "# Save Model to TFfile",
   "id": "4cc6a7d86e0bda9a"
  },
  {
   "metadata": {
    "ExecuteTime": {
     "end_time": "2024-08-10T17:34:54.139221Z",
     "start_time": "2024-08-10T17:34:53.913601Z"
    }
   },
   "cell_type": "code",
   "source": "model.export(model_save_name)",
   "id": "dc4c80922090aa2e",
   "execution_count": 45,
   "outputs": []
  },
  {
   "metadata": {
    "ExecuteTime": {
     "end_time": "2024-08-10T17:34:54.339011Z",
     "start_time": "2024-08-10T17:34:54.140740Z"
    }
   },
   "cell_type": "code",
   "source": [
    "converter = tf.lite.TFLiteConverter.from_saved_model(model_save_name)\n",
    "tflite_model = converter.convert()"
   ],
   "id": "e80270ee32ef7ecf",
   "execution_count": 46,
   "outputs": []
  },
  {
   "metadata": {
    "ExecuteTime": {
     "end_time": "2024-08-10T17:34:54.353822Z",
     "start_time": "2024-08-10T17:34:54.340519Z"
    }
   },
   "cell_type": "code",
   "source": [
    "with open(model_tflite_name, 'wb') as f:\n",
    "    f.write(tflite_model)"
   ],
   "id": "9c02c461eae437d0",
   "execution_count": 47,
   "outputs": []
  },
  {
   "metadata": {},
   "cell_type": "markdown",
   "source": "# Confussion Matrix",
   "id": "c246179bb37dcf1f"
  },
  {
   "metadata": {
    "ExecuteTime": {
     "end_time": "2024-08-10T17:34:54.818809Z",
     "start_time": "2024-08-10T17:34:54.356513Z"
    }
   },
   "cell_type": "code",
   "source": [
    "import pandas as pd\n",
    "import seaborn as sns\n",
    "import matplotlib.pyplot as plt\n",
    "from sklearn.metrics import confusion_matrix, classification_report\n",
    "\n",
    "def print_confusion_matrix(y_true, y_pred, report=True):\n",
    "    labels = sorted(list(set(y_true)))\n",
    "    cmx_data = confusion_matrix(y_true, y_pred, labels=labels)\n",
    "    \n",
    "    df_cmx = pd.DataFrame(cmx_data, index=labels, columns=labels)\n",
    " \n",
    "    fig, ax = plt.subplots(figsize=(7, 6))\n",
    "    sns.heatmap(df_cmx, annot=True, fmt='g' ,square=False)\n",
    "    ax.set_ylim(len(set(y_true)), 0)\n",
    "    plt.show()\n",
    "    \n",
    "    if report:\n",
    "        print('Classification Report')\n",
    "        print(classification_report(y_test, y_pred))\n",
    "\n",
    "Y_pred = model.predict(X_test)\n",
    "y_pred = np.argmax(Y_pred, axis=1)\n",
    "\n",
    "print_confusion_matrix(y_test, y_pred)"
   ],
   "id": "8d4700bbdcfe605e",
   "execution_count": 48,
   "outputs": []
  },
  {
   "metadata": {},
   "cell_type": "code",
   "source": "",
   "id": "cd4e6367018f3b0a",
   "execution_count": null,
   "outputs": []
  }
 ],
 "metadata": {
  "kernelspec": {
   "display_name": "Python 3",
   "language": "python",
   "name": "python3"
  },
  "language_info": {
   "codemirror_mode": {
    "name": "ipython",
    "version": 2
   },
   "file_extension": ".py",
   "mimetype": "text/x-python",
   "name": "python",
   "nbconvert_exporter": "python",
   "pygments_lexer": "ipython2",
   "version": "2.7.6"
  }
 },
 "nbformat": 4,
 "nbformat_minor": 5
}
